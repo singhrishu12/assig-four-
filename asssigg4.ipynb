{
 "cells": [
  {
   "cell_type": "code",
   "execution_count": 2,
   "id": "dd031036-fe10-442c-ae0b-fac82567d212",
   "metadata": {},
   "outputs": [
    {
     "name": "stdout",
     "output_type": "stream",
     "text": [
      "1\n",
      "2\n",
      "3\n",
      "4\n",
      "5\n"
     ]
    }
   ],
   "source": [
    "counter=1\n",
    "while counter <=5:\n",
    "    print(counter)\n",
    "    counter =counter+1"
   ]
  },
  {
   "cell_type": "code",
   "execution_count": 2,
   "id": "1ce02533-5722-4e07-b305-a9af11d43b64",
   "metadata": {},
   "outputs": [
    {
     "name": "stdout",
     "output_type": "stream",
     "text": [
      "The sum of numbers from 1 to 10 is: 55\n"
     ]
    }
   ],
   "source": [
    "counter = 1\n",
    "sum_result = 0\n",
    "\n",
    "while counter <= 10:\n",
    "    sum_result = sum_result + counter\n",
    "    counter = counter + 1\n",
    "    \n",
    "print(\"The sum of numbers from 1 to 10 is:\", sum_result)\n",
    "\n",
    "\n"
   ]
  },
  {
   "cell_type": "code",
   "execution_count": 8,
   "id": "b620a38e-fb4f-4dab-91bf-778a9a4c4fd1",
   "metadata": {},
   "outputs": [
    {
     "name": "stdin",
     "output_type": "stream",
     "text": [
      "enter your number 5\n"
     ]
    },
    {
     "data": {
      "text/plain": [
       "120"
      ]
     },
     "execution_count": 8,
     "metadata": {},
     "output_type": "execute_result"
    }
   ],
   "source": [
    "number=int(input('enter your number'))\n",
    "factorial=1\n",
    "while number>0:\n",
    "    factorial=factorial*number\n",
    "    number=number-1\n",
    "factorial"
   ]
  },
  {
   "cell_type": "code",
   "execution_count": 9,
   "id": "d0eebc5d-2012-44f7-a4e6-fb3d3589c28e",
   "metadata": {},
   "outputs": [
    {
     "name": "stdout",
     "output_type": "stream",
     "text": [
      "The number of vowels in the string is: 7\n"
     ]
    }
   ],
   "source": [
    "input_string = \"My name is Shadab Alam\"\n",
    "input_string = input_string.lower()\n",
    "\n",
    "vowel_count = 0\n",
    "\n",
    "vowels = set(\"aeiou\")\n",
    "\n",
    "for i in input_string:\n",
    "    if i in vowels:\n",
    "        vowel_count =vowel_count + 1\n",
    "\n",
    "print(f\"The number of vowels in the string is: {vowel_count}\")"
   ]
  },
  {
   "cell_type": "code",
   "execution_count": 10,
   "id": "455dc454-e296-4ccf-aa47-1f4811a8055c",
   "metadata": {},
   "outputs": [
    {
     "name": "stdout",
     "output_type": "stream",
     "text": [
      "* \n",
      "* * \n",
      "* * * \n",
      "* * * * \n",
      "* * * * * \n"
     ]
    }
   ],
   "source": [
    "num_rows = 5\n",
    "\n",
    "for i in range(num_rows):\n",
    "    for j in range(i + 1):\n",
    "        print(\"*\", end=\" \") \n",
    "    print()"
   ]
  },
  {
   "cell_type": "code",
   "execution_count": 11,
   "id": "0f3a5d1e-43d6-4768-809a-87e246bee5d5",
   "metadata": {},
   "outputs": [
    {
     "name": "stdin",
     "output_type": "stream",
     "text": [
      "enter your number 65\n"
     ]
    },
    {
     "name": "stdout",
     "output_type": "stream",
     "text": [
      "65 * 1 = 65\n",
      "65 * 2 = 130\n",
      "65 * 3 = 195\n",
      "65 * 4 = 260\n",
      "65 * 5 = 325\n",
      "65 * 6 = 390\n",
      "65 * 7 = 455\n",
      "65 * 8 = 520\n",
      "65 * 9 = 585\n",
      "65 * 10 = 650\n"
     ]
    }
   ],
   "source": [
    "n=int(input('enter your number'))\n",
    "i=1\n",
    "while i<=10:\n",
    "    result=n*i\n",
    "    print(n,'*',i,'=',result)\n",
    "    i=i+1"
   ]
  },
  {
   "cell_type": "code",
   "execution_count": null,
   "id": "9464dd81-b0b7-4108-bcc3-df5867f38a40",
   "metadata": {},
   "outputs": [],
   "source": []
  }
 ],
 "metadata": {
  "kernelspec": {
   "display_name": "Python 3 (ipykernel)",
   "language": "python",
   "name": "python3"
  },
  "language_info": {
   "codemirror_mode": {
    "name": "ipython",
    "version": 3
   },
   "file_extension": ".py",
   "mimetype": "text/x-python",
   "name": "python",
   "nbconvert_exporter": "python",
   "pygments_lexer": "ipython3",
   "version": "3.10.8"
  }
 },
 "nbformat": 4,
 "nbformat_minor": 5
}
